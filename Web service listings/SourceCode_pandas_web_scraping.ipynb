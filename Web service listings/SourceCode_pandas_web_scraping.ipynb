{
  "nbformat": 4,
  "nbformat_minor": 0,
  "metadata": {
    "colab": {
      "name": "SourceCode_pandas web scraping.ipynb",
      "provenance": [],
      "collapsed_sections": [],
      "toc_visible": true
    },
    "kernelspec": {
      "name": "python3",
      "display_name": "Python 3"
    },
    "language_info": {
      "name": "python"
    }
  },
  "cells": [
    {
      "cell_type": "markdown",
      "metadata": {
        "id": "eQf4yIMfnk32"
      },
      "source": [
        "# Sample Source Code"
      ]
    },
    {
      "cell_type": "markdown",
      "metadata": {
        "id": "C3Q8HPBI4k7c"
      },
      "source": [
        "## Pandas HTML + BeautifulSoup\n",
        "\n",
        "+600 web requests"
      ]
    },
    {
      "cell_type": "code",
      "metadata": {
        "id": "i-omHl_ud753",
        "colab": {
          "base_uri": "https://localhost:8080/"
        },
        "outputId": "e7f16f60-d5bf-4d5d-85c3-47ceb54b9907"
      },
      "source": [
        "!pip install requests-random-user-agent"
      ],
      "execution_count": null,
      "outputs": [
        {
          "output_type": "stream",
          "text": [
            "Requirement already satisfied: requests-random-user-agent in /usr/local/lib/python3.7/dist-packages (2020.12.20)\n",
            "Requirement already satisfied: requests<3.0.0,>=2.0.1 in /usr/local/lib/python3.7/dist-packages (from requests-random-user-agent) (2.23.0)\n",
            "Requirement already satisfied: chardet<4,>=3.0.2 in /usr/local/lib/python3.7/dist-packages (from requests<3.0.0,>=2.0.1->requests-random-user-agent) (3.0.4)\n",
            "Requirement already satisfied: certifi>=2017.4.17 in /usr/local/lib/python3.7/dist-packages (from requests<3.0.0,>=2.0.1->requests-random-user-agent) (2020.12.5)\n",
            "Requirement already satisfied: urllib3!=1.25.0,!=1.25.1,<1.26,>=1.21.1 in /usr/local/lib/python3.7/dist-packages (from requests<3.0.0,>=2.0.1->requests-random-user-agent) (1.24.3)\n",
            "Requirement already satisfied: idna<3,>=2.5 in /usr/local/lib/python3.7/dist-packages (from requests<3.0.0,>=2.0.1->requests-random-user-agent) (2.10)\n"
          ],
          "name": "stdout"
        }
      ]
    },
    {
      "cell_type": "code",
      "metadata": {
        "id": "G7LjkVSMfmej",
        "colab": {
          "base_uri": "https://localhost:8080/"
        },
        "outputId": "942863e7-65bf-45cc-827b-5da3e6fcbe9a"
      },
      "source": [
        "import multiprocessing\n",
        "multiprocessing.cpu_count()"
      ],
      "execution_count": null,
      "outputs": [
        {
          "output_type": "execute_result",
          "data": {
            "text/plain": [
              "2"
            ]
          },
          "metadata": {
            "tags": []
          },
          "execution_count": 2
        }
      ]
    },
    {
      "cell_type": "code",
      "metadata": {
        "id": "ygC_TkLgs6cf",
        "colab": {
          "base_uri": "https://localhost:8080/"
        },
        "outputId": "fd0f9e69-c5f8-41a9-acf3-3b7effb4bace"
      },
      "source": [
        "\n",
        "import requests\n",
        "import requests_random_user_agent\n",
        "#s = requests.Session()\n",
        "#print(s.headers['User-Agent'])\n",
        "\n",
        "# Without a session\n",
        "resp = requests.get('https://httpbin.org/user-agent')\n",
        "print(resp.json()['user-agent'])"
      ],
      "execution_count": null,
      "outputs": [
        {
          "output_type": "stream",
          "text": [
            "Mozilla/5.0 (X11; Fedora; Linux x86_64; rv:83.0) Gecko/20100101 Firefox/83.0\n"
          ],
          "name": "stdout"
        }
      ]
    },
    {
      "cell_type": "code",
      "metadata": {
        "id": "BEktJZW9ojM4"
      },
      "source": [
        "import concurrent.futures\n",
        "import requests\n",
        "import requests_random_user_agent\n",
        "import pandas as pd\n",
        "import numpy as np\n",
        "from bs4 import BeautifulSoup\n",
        "\n",
        "def _download_sourceCode(url):\n",
        "\n",
        "  rq = requests.get(url)\n",
        "  \n",
        "  if rq.status_code == 404 or rq.status_code == 403: ## Handle more error codes...\n",
        "    exit\n",
        "\n",
        "  main_data = rq.text\n",
        "\n",
        "  # dataset from table\n",
        "  df_tempSourceCode = pd.read_html(main_data, index_col=0)[0]\n",
        "\n",
        "  main_soup = BeautifulSoup(main_data, 'html.parser')\n",
        "  main_names = main_soup.find_all('tr')[1:245]\n",
        "\n",
        "  list_urlSourceCode = []\n",
        "\n",
        "  # Head url for meta_url\n",
        "  head_Url= 'https://www.programmableweb.com'\n",
        "\n",
        "  for row in main_names:\n",
        "      text = row.find_all('td')[0]\n",
        "      list_urlSourceCode.append( (head_Url + str(text).partition('<a href=\"')[2].partition('\">')[0]))\n",
        "\n",
        "  df_tempSourceCode['Meta_Url'] = list_urlSourceCode\n",
        "\n",
        "  return df_tempSourceCode\n",
        "\n",
        "\n",
        "def download_sourceCode(bulk_urls, num_Splits):\n",
        "  df_temp = pd.DataFrame()\n",
        "\n",
        "  # Split urls\n",
        "  urls_splited  = np.array_split(bulk_urls, num_Splits) # max workers\n",
        "\n",
        "  tasks = []\n",
        "\n",
        "  for split in range(len(urls_splited)):\n",
        "    with concurrent.futures.ThreadPoolExecutor(max_workers = len(urls_splited)) as executor:\n",
        "      for url in urls_splited[split]:    \n",
        "        tasks.append(executor.submit(_download_sourceCode, url))\n",
        "       ## mb call with bulk urls instead of one by one\n",
        "  # Union\n",
        "  for result in tasks:\n",
        "    df_temp = df_temp.append(result.result())\n",
        "\n",
        "  return df_temp\n"
      ],
      "execution_count": null,
      "outputs": []
    },
    {
      "cell_type": "code",
      "metadata": {
        "id": "BOpooIxL5VdJ"
      },
      "source": [
        "sourceCode_urls=[]\n",
        "\n",
        "for i in range(616): ## web pages?.. 615+1\n",
        "    main_url = 'https://www.programmableweb.com/category/all/sample-source-code?page=' + str(i) ## parametrizar + comprobar que hay datos\n",
        "    sourceCode_urls.append(main_url)"
      ],
      "execution_count": null,
      "outputs": []
    },
    {
      "cell_type": "code",
      "metadata": {
        "id": "dwzcvGg9XkxZ",
        "colab": {
          "base_uri": "https://localhost:8080/",
          "height": 450
        },
        "outputId": "cfc99511-2d7c-408e-bdaa-92b8e9397e27"
      },
      "source": [
        "df_sourceCode = pd.DataFrame()\n",
        "df_sourceCode = download_sourceCode(sourceCode_urls, 15)\n",
        "df_sourceCode"
      ],
      "execution_count": null,
      "outputs": [
        {
          "output_type": "execute_result",
          "data": {
            "text/html": [
              "<div>\n",
              "<style scoped>\n",
              "    .dataframe tbody tr th:only-of-type {\n",
              "        vertical-align: middle;\n",
              "    }\n",
              "\n",
              "    .dataframe tbody tr th {\n",
              "        vertical-align: top;\n",
              "    }\n",
              "\n",
              "    .dataframe thead th {\n",
              "        text-align: right;\n",
              "    }\n",
              "</style>\n",
              "<table border=\"1\" class=\"dataframe\">\n",
              "  <thead>\n",
              "    <tr style=\"text-align: right;\">\n",
              "      <th></th>\n",
              "      <th>Description</th>\n",
              "      <th>Category</th>\n",
              "      <th>Meta_Url</th>\n",
              "    </tr>\n",
              "    <tr>\n",
              "      <th>Name of Sample Source Code</th>\n",
              "      <th></th>\n",
              "      <th></th>\n",
              "      <th></th>\n",
              "    </tr>\n",
              "  </thead>\n",
              "  <tbody>\n",
              "    <tr>\n",
              "      <th>Cronj IT Technologies</th>\n",
              "      <td>CronJ is a leading React JS Development Compan...</td>\n",
              "      <td>Software-as-a-Service</td>\n",
              "      <td>https://www.programmableweb.com/sample-source-...</td>\n",
              "    </tr>\n",
              "    <tr>\n",
              "      <th>APIclub.in Vehicle Info India PHP Sample Code</th>\n",
              "      <td>This is the sample source code to integrate Ve...</td>\n",
              "      <td>Auto</td>\n",
              "      <td>https://www.programmableweb.com/sample-source-...</td>\n",
              "    </tr>\n",
              "    <tr>\n",
              "      <th>Nmap Create scan PHP sample code</th>\n",
              "      <td>PHP sample code for creating Nmap scan with nm...</td>\n",
              "      <td>Security</td>\n",
              "      <td>https://www.programmableweb.com/sample-source-...</td>\n",
              "    </tr>\n",
              "    <tr>\n",
              "      <th>Aspose.OMR Cloud NodeJS Examples Source Code</th>\n",
              "      <td>Aspose.OMR Cloud REST API offers SDKs for vari...</td>\n",
              "      <td>Recognition</td>\n",
              "      <td>https://www.programmableweb.com/sample-source-...</td>\n",
              "    </tr>\n",
              "    <tr>\n",
              "      <th>Aspose.OMR Cloud Ruby Examples Source Code</th>\n",
              "      <td>Aspose.OMR Cloud REST API offers SDKs for vari...</td>\n",
              "      <td>Recognition</td>\n",
              "      <td>https://www.programmableweb.com/sample-source-...</td>\n",
              "    </tr>\n",
              "    <tr>\n",
              "      <th>...</th>\n",
              "      <td>...</td>\n",
              "      <td>...</td>\n",
              "      <td>...</td>\n",
              "    </tr>\n",
              "    <tr>\n",
              "      <th>Google Maps Hacking and Bookmarklets</th>\n",
              "      <td>Interesting reference site shows API hacks and...</td>\n",
              "      <td>Mapping</td>\n",
              "      <td>https://www.programmableweb.com/sample-source-...</td>\n",
              "    </tr>\n",
              "    <tr>\n",
              "      <th>Flickr Api Explorer</th>\n",
              "      <td>Nice utility that allows you to experiment wit...</td>\n",
              "      <td>Photos</td>\n",
              "      <td>https://www.programmableweb.com/sample-source-...</td>\n",
              "    </tr>\n",
              "    <tr>\n",
              "      <th>Yahoo! MapMaker for Microsoft Excel</th>\n",
              "      <td>This Excel template provides an easy way to cr...</td>\n",
              "      <td>Mapping</td>\n",
              "      <td>https://www.programmableweb.com/sample-source-...</td>\n",
              "    </tr>\n",
              "    <tr>\n",
              "      <th>NOAA Map</th>\n",
              "      <td>VB.net code that shows exactly how to parse, s...</td>\n",
              "      <td>Mapping</td>\n",
              "      <td>https://www.programmableweb.com/sample-source-...</td>\n",
              "    </tr>\n",
              "    <tr>\n",
              "      <th>Map Builder</th>\n",
              "      <td>Online tool for visually building your own Goo...</td>\n",
              "      <td>Mapping</td>\n",
              "      <td>https://www.programmableweb.com/sample-source-...</td>\n",
              "    </tr>\n",
              "  </tbody>\n",
              "</table>\n",
              "<p>15389 rows × 3 columns</p>\n",
              "</div>"
            ],
            "text/plain": [
              "                                                                                     Description  ...                                           Meta_Url\n",
              "Name of Sample Source Code                                                                        ...                                                   \n",
              "Cronj IT Technologies                          CronJ is a leading React JS Development Compan...  ...  https://www.programmableweb.com/sample-source-...\n",
              "APIclub.in Vehicle Info India PHP Sample Code  This is the sample source code to integrate Ve...  ...  https://www.programmableweb.com/sample-source-...\n",
              "Nmap Create scan PHP sample code               PHP sample code for creating Nmap scan with nm...  ...  https://www.programmableweb.com/sample-source-...\n",
              "Aspose.OMR Cloud NodeJS Examples Source Code   Aspose.OMR Cloud REST API offers SDKs for vari...  ...  https://www.programmableweb.com/sample-source-...\n",
              "Aspose.OMR Cloud Ruby Examples Source Code     Aspose.OMR Cloud REST API offers SDKs for vari...  ...  https://www.programmableweb.com/sample-source-...\n",
              "...                                                                                          ...  ...                                                ...\n",
              "Google Maps Hacking and Bookmarklets           Interesting reference site shows API hacks and...  ...  https://www.programmableweb.com/sample-source-...\n",
              "Flickr Api Explorer                            Nice utility that allows you to experiment wit...  ...  https://www.programmableweb.com/sample-source-...\n",
              "Yahoo! MapMaker for Microsoft Excel            This Excel template provides an easy way to cr...  ...  https://www.programmableweb.com/sample-source-...\n",
              "NOAA Map                                       VB.net code that shows exactly how to parse, s...  ...  https://www.programmableweb.com/sample-source-...\n",
              "Map Builder                                    Online tool for visually building your own Goo...  ...  https://www.programmableweb.com/sample-source-...\n",
              "\n",
              "[15389 rows x 3 columns]"
            ]
          },
          "metadata": {
            "tags": []
          },
          "execution_count": 9
        }
      ]
    },
    {
      "cell_type": "code",
      "metadata": {
        "id": "T-SOQXFy2Nhn",
        "colab": {
          "base_uri": "https://localhost:8080/",
          "height": 80
        },
        "outputId": "adb77439-9dfd-4c22-c504-682f74a0f30f"
      },
      "source": [
        "# To see if is any duplicate\n",
        "df_sourceCode[df_sourceCode.duplicated(keep=False)]"
      ],
      "execution_count": null,
      "outputs": [
        {
          "output_type": "execute_result",
          "data": {
            "text/html": [
              "<div>\n",
              "<style scoped>\n",
              "    .dataframe tbody tr th:only-of-type {\n",
              "        vertical-align: middle;\n",
              "    }\n",
              "\n",
              "    .dataframe tbody tr th {\n",
              "        vertical-align: top;\n",
              "    }\n",
              "\n",
              "    .dataframe thead th {\n",
              "        text-align: right;\n",
              "    }\n",
              "</style>\n",
              "<table border=\"1\" class=\"dataframe\">\n",
              "  <thead>\n",
              "    <tr style=\"text-align: right;\">\n",
              "      <th></th>\n",
              "      <th>Description</th>\n",
              "      <th>Category</th>\n",
              "      <th>Meta_Url</th>\n",
              "      <th>Source Code</th>\n",
              "      <th>Repository</th>\n",
              "      <th>Languages</th>\n",
              "    </tr>\n",
              "    <tr>\n",
              "      <th>Name of Sample Source Code</th>\n",
              "      <th></th>\n",
              "      <th></th>\n",
              "      <th></th>\n",
              "      <th></th>\n",
              "      <th></th>\n",
              "      <th></th>\n",
              "    </tr>\n",
              "  </thead>\n",
              "  <tbody>\n",
              "  </tbody>\n",
              "</table>\n",
              "</div>"
            ],
            "text/plain": [
              "Empty DataFrame\n",
              "Columns: [Description, Category, Meta_Url, Source Code, Repository, Languages]\n",
              "Index: []"
            ]
          },
          "metadata": {
            "tags": []
          },
          "execution_count": 40
        }
      ]
    },
    {
      "cell_type": "markdown",
      "metadata": {
        "id": "_dmljlR5Eac4"
      },
      "source": [
        "## Meta URL Processing\n",
        "\n",
        "+15k web requests -> split?\n",
        "\n",
        "TODO> threading\n"
      ]
    },
    {
      "cell_type": "code",
      "metadata": {
        "id": "NLimtCPvq9RL"
      },
      "source": [
        "# Creates new columns\n",
        "df_sourceCode['Source Code'] = \"\"\n",
        "df_sourceCode['Repository'] = \"\"\n",
        "df_sourceCode['Languages'] = \"\""
      ],
      "execution_count": null,
      "outputs": []
    },
    {
      "cell_type": "code",
      "metadata": {
        "id": "aE3NhPtb0mZb"
      },
      "source": [
        "def _download_meta_url(df_source):\n",
        "\n",
        "  for i in range(len(df_source)):\n",
        "\n",
        "    #print(df_source)\n",
        "    meta_url = df_source['Meta_Url'][i]\n",
        "    rq = requests.get(meta_url)\n",
        "\n",
        "    if rq.status_code == 404 or rq.status_code == 403: ## Handle more error codes...\n",
        "      continue\n",
        "\n",
        "    meta_data = rq.text\n",
        "    meta_soup = BeautifulSoup(meta_data, 'html.parser')\n",
        "\n",
        "    # Update Description from the meta url\n",
        "    meta_description = str(meta_soup.find('div', class_='tabs-header_description')).partition('\">')[2].partition('</')[0]\n",
        "    df_source['Description'][i] = meta_description \n",
        "\n",
        "    meta_specs = meta_soup.find('div', class_='section specs')\n",
        "\n",
        "    for lab in meta_specs.select(\"label\"):   \n",
        "\n",
        "      # Search for Repo\n",
        "      if (lab.text.lower().find(\"repository\") > -1):\n",
        "          #print(lab.text + \": \" + lab.find_next_sibling().text)\n",
        "          df_source['Repository'][i] =   lab.find_next_sibling().text\n",
        "\n",
        "       # Search for Source Code\n",
        "      if (lab.text.lower().find(\"link to source code\") > -1):\n",
        "          #print(lab.text + \": \" + lab.find_next_sibling().text)\n",
        "          df_source['Source Code'][i] =   lab.find_next_sibling().text\n",
        "\n",
        "      # Search for Categories and remplace them\n",
        "      if (lab.text.lower().find(\"categories\") > -1):\n",
        "         #print(lab.text + \": \" + lab.find_next_sibling().text)\n",
        "          df_source['Category'][i] =   lab.find_next_sibling().text\n",
        "\n",
        "      # Search for Languages\n",
        "      if (lab.text.lower().find(\"languages\") > -1):\n",
        "          #print(lab.text + \": \" + lab.find_next_sibling().text)\n",
        "          df_source['Languages'][i] =   lab.find_next_sibling().text\n",
        "    #print(df_source)\n",
        "\n",
        "  return df_source\n",
        "\n",
        "\n",
        "def download_meta_url(df_sourceCode, num_Splits):\n",
        "  # Split dataframe\n",
        "  dtframe_splited  = np.array_split(df_sourceCode, num_Splits) # max workers\n",
        "  tasks = []\n",
        "\n",
        "  for split in range(len(dtframe_splited)):\n",
        "    with concurrent.futures.ThreadPoolExecutor(max_workers = len(dtframe_splited)) as executor:\n",
        "      # Download dataframes splited\n",
        "      tasks.append(executor.submit(_download_meta_url, dtframe_splited[split]))\n",
        "\n",
        "  df_temp = pd.DataFrame()\n",
        "  # Union\n",
        "  for result in tasks:\n",
        "    df_temp = df_temp.append(result.result())\n",
        "\n",
        "  return df_temp"
      ],
      "execution_count": null,
      "outputs": []
    },
    {
      "cell_type": "code",
      "metadata": {
        "id": "Q8wntDFO_XGn"
      },
      "source": [
        "len(dtframe_splited)"
      ],
      "execution_count": null,
      "outputs": []
    },
    {
      "cell_type": "code",
      "metadata": {
        "id": "7tbW6UpLhTnv",
        "colab": {
          "base_uri": "https://localhost:8080/",
          "height": 340
        },
        "outputId": "68498cb1-06c8-4208-d04c-842c8b611cf9"
      },
      "source": [
        "df_sourceCode_metaData = pd.DataFrame()\n",
        "df_sourceCode_metaData = download_meta_url(df_sourceCode,22)\n",
        "df_sourceCode_metaData"
      ],
      "execution_count": null,
      "outputs": [
        {
          "output_type": "error",
          "ename": "KeyboardInterrupt",
          "evalue": "ignored",
          "traceback": [
            "\u001b[0;31m---------------------------------------------------------------------------\u001b[0m",
            "\u001b[0;31mKeyboardInterrupt\u001b[0m                         Traceback (most recent call last)",
            "\u001b[0;32m<ipython-input-39-49a58fb3f99c>\u001b[0m in \u001b[0;36m<module>\u001b[0;34m()\u001b[0m\n\u001b[1;32m      1\u001b[0m \u001b[0mdf_sourceCode_metaData\u001b[0m \u001b[0;34m=\u001b[0m \u001b[0mpd\u001b[0m\u001b[0;34m.\u001b[0m\u001b[0mDataFrame\u001b[0m\u001b[0;34m(\u001b[0m\u001b[0;34m)\u001b[0m\u001b[0;34m\u001b[0m\u001b[0;34m\u001b[0m\u001b[0m\n\u001b[0;32m----> 2\u001b[0;31m \u001b[0mdf_sourceCode_metaData\u001b[0m \u001b[0;34m=\u001b[0m \u001b[0mdownload_meta_url\u001b[0m\u001b[0;34m(\u001b[0m\u001b[0mdf_sourceCode\u001b[0m\u001b[0;34m,\u001b[0m\u001b[0;36m22\u001b[0m\u001b[0;34m)\u001b[0m\u001b[0;34m\u001b[0m\u001b[0;34m\u001b[0m\u001b[0m\n\u001b[0m\u001b[1;32m      3\u001b[0m \u001b[0mdf_sourceCode_metaData\u001b[0m\u001b[0;34m\u001b[0m\u001b[0;34m\u001b[0m\u001b[0m\n",
            "\u001b[0;32m<ipython-input-37-9a6dbcdf0968>\u001b[0m in \u001b[0;36mdownload_meta_url\u001b[0;34m(df_sourceCode, num_Splits)\u001b[0m\n\u001b[1;32m     53\u001b[0m     \u001b[0;32mwith\u001b[0m \u001b[0mconcurrent\u001b[0m\u001b[0;34m.\u001b[0m\u001b[0mfutures\u001b[0m\u001b[0;34m.\u001b[0m\u001b[0mThreadPoolExecutor\u001b[0m\u001b[0;34m(\u001b[0m\u001b[0mmax_workers\u001b[0m \u001b[0;34m=\u001b[0m \u001b[0mlen\u001b[0m\u001b[0;34m(\u001b[0m\u001b[0mdtframe_splited\u001b[0m\u001b[0;34m)\u001b[0m\u001b[0;34m)\u001b[0m \u001b[0;32mas\u001b[0m \u001b[0mexecutor\u001b[0m\u001b[0;34m:\u001b[0m\u001b[0;34m\u001b[0m\u001b[0;34m\u001b[0m\u001b[0m\n\u001b[1;32m     54\u001b[0m       \u001b[0;31m# Download dataframes splited\u001b[0m\u001b[0;34m\u001b[0m\u001b[0;34m\u001b[0m\u001b[0;34m\u001b[0m\u001b[0m\n\u001b[0;32m---> 55\u001b[0;31m       \u001b[0mtasks\u001b[0m\u001b[0;34m.\u001b[0m\u001b[0mappend\u001b[0m\u001b[0;34m(\u001b[0m\u001b[0mexecutor\u001b[0m\u001b[0;34m.\u001b[0m\u001b[0msubmit\u001b[0m\u001b[0;34m(\u001b[0m\u001b[0m_download_meta_url\u001b[0m\u001b[0;34m,\u001b[0m \u001b[0mdtframe_splited\u001b[0m\u001b[0;34m[\u001b[0m\u001b[0msplit\u001b[0m\u001b[0;34m]\u001b[0m\u001b[0;34m)\u001b[0m\u001b[0;34m)\u001b[0m\u001b[0;34m\u001b[0m\u001b[0;34m\u001b[0m\u001b[0m\n\u001b[0m\u001b[1;32m     56\u001b[0m \u001b[0;34m\u001b[0m\u001b[0m\n\u001b[1;32m     57\u001b[0m   \u001b[0mdf_temp\u001b[0m \u001b[0;34m=\u001b[0m \u001b[0mpd\u001b[0m\u001b[0;34m.\u001b[0m\u001b[0mDataFrame\u001b[0m\u001b[0;34m(\u001b[0m\u001b[0;34m)\u001b[0m\u001b[0;34m\u001b[0m\u001b[0;34m\u001b[0m\u001b[0m\n",
            "\u001b[0;32m/usr/lib/python3.7/concurrent/futures/_base.py\u001b[0m in \u001b[0;36m__exit__\u001b[0;34m(self, exc_type, exc_val, exc_tb)\u001b[0m\n\u001b[1;32m    621\u001b[0m \u001b[0;34m\u001b[0m\u001b[0m\n\u001b[1;32m    622\u001b[0m     \u001b[0;32mdef\u001b[0m \u001b[0m__exit__\u001b[0m\u001b[0;34m(\u001b[0m\u001b[0mself\u001b[0m\u001b[0;34m,\u001b[0m \u001b[0mexc_type\u001b[0m\u001b[0;34m,\u001b[0m \u001b[0mexc_val\u001b[0m\u001b[0;34m,\u001b[0m \u001b[0mexc_tb\u001b[0m\u001b[0;34m)\u001b[0m\u001b[0;34m:\u001b[0m\u001b[0;34m\u001b[0m\u001b[0;34m\u001b[0m\u001b[0m\n\u001b[0;32m--> 623\u001b[0;31m         \u001b[0mself\u001b[0m\u001b[0;34m.\u001b[0m\u001b[0mshutdown\u001b[0m\u001b[0;34m(\u001b[0m\u001b[0mwait\u001b[0m\u001b[0;34m=\u001b[0m\u001b[0;32mTrue\u001b[0m\u001b[0;34m)\u001b[0m\u001b[0;34m\u001b[0m\u001b[0;34m\u001b[0m\u001b[0m\n\u001b[0m\u001b[1;32m    624\u001b[0m         \u001b[0;32mreturn\u001b[0m \u001b[0;32mFalse\u001b[0m\u001b[0;34m\u001b[0m\u001b[0;34m\u001b[0m\u001b[0m\n\u001b[1;32m    625\u001b[0m \u001b[0;34m\u001b[0m\u001b[0m\n",
            "\u001b[0;32m/usr/lib/python3.7/concurrent/futures/thread.py\u001b[0m in \u001b[0;36mshutdown\u001b[0;34m(self, wait)\u001b[0m\n\u001b[1;32m    214\u001b[0m         \u001b[0;32mif\u001b[0m \u001b[0mwait\u001b[0m\u001b[0;34m:\u001b[0m\u001b[0;34m\u001b[0m\u001b[0;34m\u001b[0m\u001b[0m\n\u001b[1;32m    215\u001b[0m             \u001b[0;32mfor\u001b[0m \u001b[0mt\u001b[0m \u001b[0;32min\u001b[0m \u001b[0mself\u001b[0m\u001b[0;34m.\u001b[0m\u001b[0m_threads\u001b[0m\u001b[0;34m:\u001b[0m\u001b[0;34m\u001b[0m\u001b[0;34m\u001b[0m\u001b[0m\n\u001b[0;32m--> 216\u001b[0;31m                 \u001b[0mt\u001b[0m\u001b[0;34m.\u001b[0m\u001b[0mjoin\u001b[0m\u001b[0;34m(\u001b[0m\u001b[0;34m)\u001b[0m\u001b[0;34m\u001b[0m\u001b[0;34m\u001b[0m\u001b[0m\n\u001b[0m\u001b[1;32m    217\u001b[0m     \u001b[0mshutdown\u001b[0m\u001b[0;34m.\u001b[0m\u001b[0m__doc__\u001b[0m \u001b[0;34m=\u001b[0m \u001b[0m_base\u001b[0m\u001b[0;34m.\u001b[0m\u001b[0mExecutor\u001b[0m\u001b[0;34m.\u001b[0m\u001b[0mshutdown\u001b[0m\u001b[0;34m.\u001b[0m\u001b[0m__doc__\u001b[0m\u001b[0;34m\u001b[0m\u001b[0;34m\u001b[0m\u001b[0m\n",
            "\u001b[0;32m/usr/lib/python3.7/threading.py\u001b[0m in \u001b[0;36mjoin\u001b[0;34m(self, timeout)\u001b[0m\n\u001b[1;32m   1042\u001b[0m \u001b[0;34m\u001b[0m\u001b[0m\n\u001b[1;32m   1043\u001b[0m         \u001b[0;32mif\u001b[0m \u001b[0mtimeout\u001b[0m \u001b[0;32mis\u001b[0m \u001b[0;32mNone\u001b[0m\u001b[0;34m:\u001b[0m\u001b[0;34m\u001b[0m\u001b[0;34m\u001b[0m\u001b[0m\n\u001b[0;32m-> 1044\u001b[0;31m             \u001b[0mself\u001b[0m\u001b[0;34m.\u001b[0m\u001b[0m_wait_for_tstate_lock\u001b[0m\u001b[0;34m(\u001b[0m\u001b[0;34m)\u001b[0m\u001b[0;34m\u001b[0m\u001b[0;34m\u001b[0m\u001b[0m\n\u001b[0m\u001b[1;32m   1045\u001b[0m         \u001b[0;32melse\u001b[0m\u001b[0;34m:\u001b[0m\u001b[0;34m\u001b[0m\u001b[0;34m\u001b[0m\u001b[0m\n\u001b[1;32m   1046\u001b[0m             \u001b[0;31m# the behavior of a negative timeout isn't documented, but\u001b[0m\u001b[0;34m\u001b[0m\u001b[0;34m\u001b[0m\u001b[0;34m\u001b[0m\u001b[0m\n",
            "\u001b[0;32m/usr/lib/python3.7/threading.py\u001b[0m in \u001b[0;36m_wait_for_tstate_lock\u001b[0;34m(self, block, timeout)\u001b[0m\n\u001b[1;32m   1058\u001b[0m         \u001b[0;32mif\u001b[0m \u001b[0mlock\u001b[0m \u001b[0;32mis\u001b[0m \u001b[0;32mNone\u001b[0m\u001b[0;34m:\u001b[0m  \u001b[0;31m# already determined that the C code is done\u001b[0m\u001b[0;34m\u001b[0m\u001b[0;34m\u001b[0m\u001b[0m\n\u001b[1;32m   1059\u001b[0m             \u001b[0;32massert\u001b[0m \u001b[0mself\u001b[0m\u001b[0;34m.\u001b[0m\u001b[0m_is_stopped\u001b[0m\u001b[0;34m\u001b[0m\u001b[0;34m\u001b[0m\u001b[0m\n\u001b[0;32m-> 1060\u001b[0;31m         \u001b[0;32melif\u001b[0m \u001b[0mlock\u001b[0m\u001b[0;34m.\u001b[0m\u001b[0macquire\u001b[0m\u001b[0;34m(\u001b[0m\u001b[0mblock\u001b[0m\u001b[0;34m,\u001b[0m \u001b[0mtimeout\u001b[0m\u001b[0;34m)\u001b[0m\u001b[0;34m:\u001b[0m\u001b[0;34m\u001b[0m\u001b[0;34m\u001b[0m\u001b[0m\n\u001b[0m\u001b[1;32m   1061\u001b[0m             \u001b[0mlock\u001b[0m\u001b[0;34m.\u001b[0m\u001b[0mrelease\u001b[0m\u001b[0;34m(\u001b[0m\u001b[0;34m)\u001b[0m\u001b[0;34m\u001b[0m\u001b[0;34m\u001b[0m\u001b[0m\n\u001b[1;32m   1062\u001b[0m             \u001b[0mself\u001b[0m\u001b[0;34m.\u001b[0m\u001b[0m_stop\u001b[0m\u001b[0;34m(\u001b[0m\u001b[0;34m)\u001b[0m\u001b[0;34m\u001b[0m\u001b[0;34m\u001b[0m\u001b[0m\n",
            "\u001b[0;31mKeyboardInterrupt\u001b[0m: "
          ]
        }
      ]
    },
    {
      "cell_type": "code",
      "metadata": {
        "id": "nUksd6hVSirQ",
        "colab": {
          "base_uri": "https://localhost:8080/",
          "height": 32
        },
        "outputId": "02d90f77-6218-4f1d-a44e-58d6637f9353"
      },
      "source": [
        "df_sourceCode_metaData"
      ],
      "execution_count": null,
      "outputs": [
        {
          "output_type": "execute_result",
          "data": {
            "text/html": [
              "<div>\n",
              "<style scoped>\n",
              "    .dataframe tbody tr th:only-of-type {\n",
              "        vertical-align: middle;\n",
              "    }\n",
              "\n",
              "    .dataframe tbody tr th {\n",
              "        vertical-align: top;\n",
              "    }\n",
              "\n",
              "    .dataframe thead th {\n",
              "        text-align: right;\n",
              "    }\n",
              "</style>\n",
              "<table border=\"1\" class=\"dataframe\">\n",
              "  <thead>\n",
              "    <tr style=\"text-align: right;\">\n",
              "      <th></th>\n",
              "    </tr>\n",
              "  </thead>\n",
              "  <tbody>\n",
              "  </tbody>\n",
              "</table>\n",
              "</div>"
            ],
            "text/plain": [
              "Empty DataFrame\n",
              "Columns: []\n",
              "Index: []"
            ]
          },
          "metadata": {
            "tags": []
          },
          "execution_count": 42
        }
      ]
    },
    {
      "cell_type": "code",
      "metadata": {
        "id": "i-6HqdxVTch_"
      },
      "source": [
        "# Meta_Url could be used to check for updates on the source website. That uses only +600 web requests instead of +15k\n",
        "# save a copy of the original dataframe to check for updates based on the meta url or other fields\n",
        "df_sourceCode_metaData.reset_index(inplace=True)\n",
        "df_export_sourceCode = df_sourceCode_metaData.copy()"
      ],
      "execution_count": null,
      "outputs": []
    },
    {
      "cell_type": "code",
      "metadata": {
        "id": "rm3aE3MPjDxa",
        "colab": {
          "base_uri": "https://localhost:8080/",
          "height": 340
        },
        "outputId": "b9b7b3ee-d6b5-45ee-ce47-7c3e8eaac4af"
      },
      "source": [
        "# Drop the column for the data analysis ( ? ? )\n",
        "df_sourceCode_metaData.drop('Meta_Url', inplace=True, axis=1)\n",
        "df_sourceCode_metaData"
      ],
      "execution_count": null,
      "outputs": [
        {
          "output_type": "error",
          "ename": "KeyError",
          "evalue": "ignored",
          "traceback": [
            "\u001b[0;31m---------------------------------------------------------------------------\u001b[0m",
            "\u001b[0;31mKeyError\u001b[0m                                  Traceback (most recent call last)",
            "\u001b[0;32m<ipython-input-41-c696b4470bd2>\u001b[0m in \u001b[0;36m<module>\u001b[0;34m()\u001b[0m\n\u001b[1;32m      1\u001b[0m \u001b[0;31m# Drop the column for the data analysis ( ? ? )\u001b[0m\u001b[0;34m\u001b[0m\u001b[0;34m\u001b[0m\u001b[0;34m\u001b[0m\u001b[0m\n\u001b[0;32m----> 2\u001b[0;31m \u001b[0mdf_sourceCode_metaData\u001b[0m\u001b[0;34m.\u001b[0m\u001b[0mdrop\u001b[0m\u001b[0;34m(\u001b[0m\u001b[0;34m'Meta_Url'\u001b[0m\u001b[0;34m,\u001b[0m \u001b[0minplace\u001b[0m\u001b[0;34m=\u001b[0m\u001b[0;32mTrue\u001b[0m\u001b[0;34m,\u001b[0m \u001b[0maxis\u001b[0m\u001b[0;34m=\u001b[0m\u001b[0;36m1\u001b[0m\u001b[0;34m)\u001b[0m\u001b[0;34m\u001b[0m\u001b[0;34m\u001b[0m\u001b[0m\n\u001b[0m\u001b[1;32m      3\u001b[0m \u001b[0mdf_sourceCode_metaData\u001b[0m\u001b[0;34m\u001b[0m\u001b[0;34m\u001b[0m\u001b[0m\n",
            "\u001b[0;32m/usr/local/lib/python3.7/dist-packages/pandas/core/frame.py\u001b[0m in \u001b[0;36mdrop\u001b[0;34m(self, labels, axis, index, columns, level, inplace, errors)\u001b[0m\n\u001b[1;32m   4172\u001b[0m             \u001b[0mlevel\u001b[0m\u001b[0;34m=\u001b[0m\u001b[0mlevel\u001b[0m\u001b[0;34m,\u001b[0m\u001b[0;34m\u001b[0m\u001b[0;34m\u001b[0m\u001b[0m\n\u001b[1;32m   4173\u001b[0m             \u001b[0minplace\u001b[0m\u001b[0;34m=\u001b[0m\u001b[0minplace\u001b[0m\u001b[0;34m,\u001b[0m\u001b[0;34m\u001b[0m\u001b[0;34m\u001b[0m\u001b[0m\n\u001b[0;32m-> 4174\u001b[0;31m             \u001b[0merrors\u001b[0m\u001b[0;34m=\u001b[0m\u001b[0merrors\u001b[0m\u001b[0;34m,\u001b[0m\u001b[0;34m\u001b[0m\u001b[0;34m\u001b[0m\u001b[0m\n\u001b[0m\u001b[1;32m   4175\u001b[0m         )\n\u001b[1;32m   4176\u001b[0m \u001b[0;34m\u001b[0m\u001b[0m\n",
            "\u001b[0;32m/usr/local/lib/python3.7/dist-packages/pandas/core/generic.py\u001b[0m in \u001b[0;36mdrop\u001b[0;34m(self, labels, axis, index, columns, level, inplace, errors)\u001b[0m\n\u001b[1;32m   3887\u001b[0m         \u001b[0;32mfor\u001b[0m \u001b[0maxis\u001b[0m\u001b[0;34m,\u001b[0m \u001b[0mlabels\u001b[0m \u001b[0;32min\u001b[0m \u001b[0maxes\u001b[0m\u001b[0;34m.\u001b[0m\u001b[0mitems\u001b[0m\u001b[0;34m(\u001b[0m\u001b[0;34m)\u001b[0m\u001b[0;34m:\u001b[0m\u001b[0;34m\u001b[0m\u001b[0;34m\u001b[0m\u001b[0m\n\u001b[1;32m   3888\u001b[0m             \u001b[0;32mif\u001b[0m \u001b[0mlabels\u001b[0m \u001b[0;32mis\u001b[0m \u001b[0;32mnot\u001b[0m \u001b[0;32mNone\u001b[0m\u001b[0;34m:\u001b[0m\u001b[0;34m\u001b[0m\u001b[0;34m\u001b[0m\u001b[0m\n\u001b[0;32m-> 3889\u001b[0;31m                 \u001b[0mobj\u001b[0m \u001b[0;34m=\u001b[0m \u001b[0mobj\u001b[0m\u001b[0;34m.\u001b[0m\u001b[0m_drop_axis\u001b[0m\u001b[0;34m(\u001b[0m\u001b[0mlabels\u001b[0m\u001b[0;34m,\u001b[0m \u001b[0maxis\u001b[0m\u001b[0;34m,\u001b[0m \u001b[0mlevel\u001b[0m\u001b[0;34m=\u001b[0m\u001b[0mlevel\u001b[0m\u001b[0;34m,\u001b[0m \u001b[0merrors\u001b[0m\u001b[0;34m=\u001b[0m\u001b[0merrors\u001b[0m\u001b[0;34m)\u001b[0m\u001b[0;34m\u001b[0m\u001b[0;34m\u001b[0m\u001b[0m\n\u001b[0m\u001b[1;32m   3890\u001b[0m \u001b[0;34m\u001b[0m\u001b[0m\n\u001b[1;32m   3891\u001b[0m         \u001b[0;32mif\u001b[0m \u001b[0minplace\u001b[0m\u001b[0;34m:\u001b[0m\u001b[0;34m\u001b[0m\u001b[0;34m\u001b[0m\u001b[0m\n",
            "\u001b[0;32m/usr/local/lib/python3.7/dist-packages/pandas/core/generic.py\u001b[0m in \u001b[0;36m_drop_axis\u001b[0;34m(self, labels, axis, level, errors)\u001b[0m\n\u001b[1;32m   3921\u001b[0m                 \u001b[0mnew_axis\u001b[0m \u001b[0;34m=\u001b[0m \u001b[0maxis\u001b[0m\u001b[0;34m.\u001b[0m\u001b[0mdrop\u001b[0m\u001b[0;34m(\u001b[0m\u001b[0mlabels\u001b[0m\u001b[0;34m,\u001b[0m \u001b[0mlevel\u001b[0m\u001b[0;34m=\u001b[0m\u001b[0mlevel\u001b[0m\u001b[0;34m,\u001b[0m \u001b[0merrors\u001b[0m\u001b[0;34m=\u001b[0m\u001b[0merrors\u001b[0m\u001b[0;34m)\u001b[0m\u001b[0;34m\u001b[0m\u001b[0;34m\u001b[0m\u001b[0m\n\u001b[1;32m   3922\u001b[0m             \u001b[0;32melse\u001b[0m\u001b[0;34m:\u001b[0m\u001b[0;34m\u001b[0m\u001b[0;34m\u001b[0m\u001b[0m\n\u001b[0;32m-> 3923\u001b[0;31m                 \u001b[0mnew_axis\u001b[0m \u001b[0;34m=\u001b[0m \u001b[0maxis\u001b[0m\u001b[0;34m.\u001b[0m\u001b[0mdrop\u001b[0m\u001b[0;34m(\u001b[0m\u001b[0mlabels\u001b[0m\u001b[0;34m,\u001b[0m \u001b[0merrors\u001b[0m\u001b[0;34m=\u001b[0m\u001b[0merrors\u001b[0m\u001b[0;34m)\u001b[0m\u001b[0;34m\u001b[0m\u001b[0;34m\u001b[0m\u001b[0m\n\u001b[0m\u001b[1;32m   3924\u001b[0m             \u001b[0mresult\u001b[0m \u001b[0;34m=\u001b[0m \u001b[0mself\u001b[0m\u001b[0;34m.\u001b[0m\u001b[0mreindex\u001b[0m\u001b[0;34m(\u001b[0m\u001b[0;34m**\u001b[0m\u001b[0;34m{\u001b[0m\u001b[0maxis_name\u001b[0m\u001b[0;34m:\u001b[0m \u001b[0mnew_axis\u001b[0m\u001b[0;34m}\u001b[0m\u001b[0;34m)\u001b[0m\u001b[0;34m\u001b[0m\u001b[0;34m\u001b[0m\u001b[0m\n\u001b[1;32m   3925\u001b[0m \u001b[0;34m\u001b[0m\u001b[0m\n",
            "\u001b[0;32m/usr/local/lib/python3.7/dist-packages/pandas/core/indexes/base.py\u001b[0m in \u001b[0;36mdrop\u001b[0;34m(self, labels, errors)\u001b[0m\n\u001b[1;32m   5285\u001b[0m         \u001b[0;32mif\u001b[0m \u001b[0mmask\u001b[0m\u001b[0;34m.\u001b[0m\u001b[0many\u001b[0m\u001b[0;34m(\u001b[0m\u001b[0;34m)\u001b[0m\u001b[0;34m:\u001b[0m\u001b[0;34m\u001b[0m\u001b[0;34m\u001b[0m\u001b[0m\n\u001b[1;32m   5286\u001b[0m             \u001b[0;32mif\u001b[0m \u001b[0merrors\u001b[0m \u001b[0;34m!=\u001b[0m \u001b[0;34m\"ignore\"\u001b[0m\u001b[0;34m:\u001b[0m\u001b[0;34m\u001b[0m\u001b[0;34m\u001b[0m\u001b[0m\n\u001b[0;32m-> 5287\u001b[0;31m                 \u001b[0;32mraise\u001b[0m \u001b[0mKeyError\u001b[0m\u001b[0;34m(\u001b[0m\u001b[0;34mf\"{labels[mask]} not found in axis\"\u001b[0m\u001b[0;34m)\u001b[0m\u001b[0;34m\u001b[0m\u001b[0;34m\u001b[0m\u001b[0m\n\u001b[0m\u001b[1;32m   5288\u001b[0m             \u001b[0mindexer\u001b[0m \u001b[0;34m=\u001b[0m \u001b[0mindexer\u001b[0m\u001b[0;34m[\u001b[0m\u001b[0;34m~\u001b[0m\u001b[0mmask\u001b[0m\u001b[0;34m]\u001b[0m\u001b[0;34m\u001b[0m\u001b[0;34m\u001b[0m\u001b[0m\n\u001b[1;32m   5289\u001b[0m         \u001b[0;32mreturn\u001b[0m \u001b[0mself\u001b[0m\u001b[0;34m.\u001b[0m\u001b[0mdelete\u001b[0m\u001b[0;34m(\u001b[0m\u001b[0mindexer\u001b[0m\u001b[0;34m)\u001b[0m\u001b[0;34m\u001b[0m\u001b[0;34m\u001b[0m\u001b[0m\n",
            "\u001b[0;31mKeyError\u001b[0m: \"['Meta_Url'] not found in axis\""
          ]
        }
      ]
    },
    {
      "cell_type": "markdown",
      "metadata": {
        "id": "x3S8CUZhV4W9"
      },
      "source": [
        "## Export"
      ]
    },
    {
      "cell_type": "code",
      "metadata": {
        "id": "S6qGQJEcUmD9"
      },
      "source": [
        "from datetime import datetime\n",
        "datetime = datetime.now()\n",
        "\n",
        "## Export the data for analysis \n",
        "# To CSV (index True 0,1,2...)\n",
        "df_export_sourceCode.to_csv(r'/content/DataFrame/sample_source_code_' + datetime.now().strftime('%d_%m_%Y') + '.csv', index = True, header = True)\n",
        "\n",
        "# To JSON (columns format index True 0,1,2...)\n",
        "df_export_sourceCode.to_json(r'/content/DataFrame/sample_source_code_' + datetime.now().strftime('%d_%m_%Y') + '.json')\n",
        "\n",
        "\n",
        "## Export the original + Meta_Url\n",
        "\n",
        "# To CSV (index True 0,1,2...)\n",
        "df_sourceCode.to_csv(r'/content/DataFrame/original_sample_source_code_' + datetime.now().strftime('%d_%m_%Y') + '.csv', index = True, header = True)\n",
        "\n",
        "# To JSON (columns format index True 0,1,2...)\n",
        "df_sourceCode.to_json(r'/content/DataFrame/original_sample_source_code_' + datetime.now().strftime('%d_%m_%Y') + '.json')"
      ],
      "execution_count": null,
      "outputs": []
    }
  ]
}